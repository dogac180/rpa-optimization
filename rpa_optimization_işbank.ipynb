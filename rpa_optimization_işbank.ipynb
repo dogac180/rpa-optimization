{
 "cells": [
  {
   "cell_type": "code",
   "execution_count": 1,
   "id": "d14ed6f3",
   "metadata": {},
   "outputs": [],
   "source": [
    "from inspect import Parameter\n",
    "from turtle import color\n",
    "from unittest import result\n",
    "from isort import code, file\n",
    "import pyomo.environ as pyo\n",
    "from pyomo.environ import *\n",
    "from pyomo.opt import SolverFactory\n",
    "import pandas as pd\n",
    "from datetime import time\n",
    "from collections import defaultdict\n",
    "import numpy as np\n",
    "import matplotlib.pyplot as plt\n",
    "from itertools import *\n",
    "import collections\n",
    "\n",
    "# Read Excel Files\n",
    "all_jobs = pd.read_excel(\"LastQueue.xlsx\", sheet_name=\"AllJobs\")\n",
    "all_queue_items = pd.read_excel(\"LastQueue.xlsx\", sheet_name=\"Sayfa1\")\n",
    "\n",
    "# create a list containing the name of unique tasks\n",
    "items = all_queue_items.ExecutorJobId.unique().tolist()\n",
    "items.remove(11018.0)\n",
    "items_list = sorted(items)\n",
    "# create a dataframe using the file QueueItems_Full and make necessary adjustments\n",
    "all_queue_df = all_queue_items[\n",
    "    all_queue_items[\"ExecutorJobId\"].isin(items_list)\n",
    "].sort_values(by=\"ExecutorJobId\", ascending=True)\n",
    "all_queue_df = all_queue_df.dropna(subset=[\"ExecutorJobId\"], how=\"all\")\n",
    "# create a dataframe using the file All_Jobs1 and make necessary adjustments\n",
    "all_jobs_df = all_jobs[all_jobs[\"Id\"].isin(items_list)].sort_values(\n",
    "    by=\"Id\", ascending=True\n",
    ")\n",
    "all_jobs_df = all_jobs_df[:-1]\n",
    "\n",
    "# create periods\n",
    "starting = time(9, 0, 0)\n",
    "mid = time(12, 30, 0)\n",
    "afternoon = time(15, 30, 0)\n",
    "ending = time(18, 30, 0)\n",
    "\n",
    "# converting time columns to datetime\n",
    "all_queue_df[\"StartProcessing\"] = pd.to_datetime(\n",
    "    all_queue_df[\"StartProcessing\"], format=\"%d/%m/%Y\"\n",
    ")\n",
    "all_queue_df[\"EndProcessing\"] = pd.to_datetime(\n",
    "    all_queue_df[\"EndProcessing\"], format=\"%d/%m/%Y\"\n",
    ")\n",
    "all_jobs_df[\"CreationTime\"] = pd.to_datetime(\n",
    "    all_jobs_df[\"CreationTime\"], format=\"%d/%m/%Y\"\n",
    ")\n",
    "\n",
    "all_jobs_df[\"creation_time\"] = [d.time() for d in all_jobs_df[\"CreationTime\"]]\n",
    "all_queue_df[\"new_date_start\"] = [d.date() for d in all_queue_df[\"StartProcessing\"]]\n",
    "all_queue_df[\"new_time_start\"] = [d.time() for d in all_queue_df[\"StartProcessing\"]]\n",
    "all_queue_df[\"new_date_end\"] = [d.date() for d in all_queue_df[\"EndProcessing\"]]\n",
    "all_queue_df[\"new_time_end\"] = [d.time() for d in all_queue_df[\"EndProcessing\"]]\n",
    "\n",
    "period_list = ['WH','NH']"
   ]
  },
  {
   "cell_type": "code",
   "execution_count": 2,
   "id": "e5bc47a4",
   "metadata": {},
   "outputs": [],
   "source": [
    "# add the robot names to the dataframe\n",
    "robo_dic = {}\n",
    "for i in range(len(all_jobs_df)):\n",
    "    j = all_jobs_df.iloc[i][\"Id\"]\n",
    "    r = all_jobs_df.iloc[i][\"RobotName\"]\n",
    "    robo_dic[j] = r"
   ]
  },
  {
   "cell_type": "code",
   "execution_count": 3,
   "id": "9575700a",
   "metadata": {},
   "outputs": [],
   "source": [
    "robo_name_list= []\n",
    "robo_id_name_dict = {}\n",
    "del_list = []\n",
    "for i in range(len(all_queue_df)):\n",
    "    jobs = all_queue_df.iloc[i][\"ExecutorJobId\"]\n",
    "    if jobs in robo_dic.keys():\n",
    "        robo_name_list.append(robo_dic[jobs])\n",
    "    else:\n",
    "        del_list.append(i) \n",
    "        \n",
    "            \n"
   ]
  },
  {
   "cell_type": "code",
   "execution_count": 4,
   "id": "113b3575",
   "metadata": {},
   "outputs": [
    {
     "name": "stdout",
     "output_type": "stream",
     "text": [
      "71822 71855 33\n"
     ]
    }
   ],
   "source": [
    "print(len(robo_name_list), len(all_queue_df),len(del_list))"
   ]
  },
  {
   "cell_type": "code",
   "execution_count": 5,
   "id": "935c07bf",
   "metadata": {},
   "outputs": [],
   "source": [
    "new_que_df = all_queue_df.copy()\n",
    "for i in range(len(del_list)):\n",
    "    new_que_df = new_que_df.drop(new_que_df.index[del_list[i]-i])"
   ]
  },
  {
   "cell_type": "code",
   "execution_count": 6,
   "id": "93fe10f3",
   "metadata": {},
   "outputs": [],
   "source": [
    "new_que_df[\"RobotName\"] = robo_name_list"
   ]
  },
  {
   "cell_type": "code",
   "execution_count": 7,
   "id": "6380b5df",
   "metadata": {},
   "outputs": [
    {
     "name": "stdout",
     "output_type": "stream",
     "text": [
      "       ExecutorJobId  QueueDefinitionId  Status   StatusName  RobotId  \\\n",
      "54094            747                 34       2       Failed       15   \n",
      "37334            747                 34       3   Successful       15   \n",
      "14124            747                 34       3   Successful       15   \n",
      "25520            747                 34       3   Successful       15   \n",
      "35222            747                 34       3   Successful       15   \n",
      "...              ...                ...     ...          ...      ...   \n",
      "18337          12943                 34       3   Successful       15   \n",
      "843            12943                 34       3   Successful       15   \n",
      "17360          12943                 34       3   Successful       15   \n",
      "28282          12943                 34       3   Successful       15   \n",
      "20273          12943                 34       3   Successful       15   \n",
      "\n",
      "              StartProcessing           EndProcessing  \\\n",
      "54094 2022-03-18 14:35:27.420 2022-03-18 14:35:33.183   \n",
      "37334 2022-03-18 14:44:40.247 2022-03-18 14:45:47.130   \n",
      "14124 2022-03-18 14:39:28.230 2022-03-18 14:42:11.353   \n",
      "25520 2022-03-18 15:16:17.960 2022-03-18 15:19:12.677   \n",
      "35222 2022-03-18 15:55:41.670 2022-03-18 15:57:17.180   \n",
      "...                       ...                     ...   \n",
      "18337 2022-04-05 18:13:31.240 2022-04-05 18:15:03.733   \n",
      "843   2022-04-05 18:25:32.460 2022-04-05 18:28:23.060   \n",
      "17360 2022-04-05 18:22:48.943 2022-04-05 18:25:32.153   \n",
      "28282 2022-04-05 18:31:14.627 2022-04-05 18:34:04.790   \n",
      "20273 2022-04-05 18:41:12.767 2022-04-05 18:43:50.183   \n",
      "\n",
      "       ProcessingExceptionType  ProcessID  Source new_date_start  \\\n",
      "54094                      0.0         58       0     2022-03-18   \n",
      "37334                      NaN         58       0     2022-03-18   \n",
      "14124                      NaN         58       0     2022-03-18   \n",
      "25520                      NaN         58       0     2022-03-18   \n",
      "35222                      NaN         58       0     2022-03-18   \n",
      "...                        ...        ...     ...            ...   \n",
      "18337                      NaN         58       1     2022-04-05   \n",
      "843                        NaN         58       1     2022-04-05   \n",
      "17360                      NaN         58       1     2022-04-05   \n",
      "28282                      NaN         58       1     2022-04-05   \n",
      "20273                      NaN         58       1     2022-04-05   \n",
      "\n",
      "        new_time_start new_date_end     new_time_end RobotName  \n",
      "54094  14:35:27.420000   2022-03-18  14:35:33.183000    Robot2  \n",
      "37334  14:44:40.247000   2022-03-18  14:45:47.130000    Robot2  \n",
      "14124  14:39:28.230000   2022-03-18  14:42:11.353000    Robot2  \n",
      "25520  15:16:17.960000   2022-03-18  15:19:12.677000    Robot2  \n",
      "35222  15:55:41.670000   2022-03-18  15:57:17.180000    Robot2  \n",
      "...                ...          ...              ...       ...  \n",
      "18337  18:13:31.240000   2022-04-05  18:15:03.733000    Robot2  \n",
      "843    18:25:32.460000   2022-04-05  18:28:23.060000    Robot2  \n",
      "17360  18:22:48.943000   2022-04-05  18:25:32.153000    Robot2  \n",
      "28282  18:31:14.627000   2022-04-05  18:34:04.790000    Robot2  \n",
      "20273  18:41:12.767000   2022-04-05  18:43:50.183000    Robot2  \n",
      "\n",
      "[71822 rows x 15 columns]\n"
     ]
    }
   ],
   "source": [
    "print(new_que_df)"
   ]
  },
  {
   "cell_type": "code",
   "execution_count": 8,
   "id": "71703351",
   "metadata": {},
   "outputs": [],
   "source": [
    "processes = new_que_df.ProcessID.unique().tolist()\n",
    "robots = new_que_df.RobotName.unique().tolist()"
   ]
  },
  {
   "cell_type": "code",
   "execution_count": 9,
   "id": "9e40e88e",
   "metadata": {},
   "outputs": [
    {
     "name": "stdout",
     "output_type": "stream",
     "text": [
      "32\n"
     ]
    }
   ],
   "source": [
    "jobid = new_que_df.ExecutorJobId.unique().tolist()\n",
    "print(len(processes))"
   ]
  },
  {
   "cell_type": "code",
   "execution_count": 10,
   "id": "0d5432b7",
   "metadata": {},
   "outputs": [],
   "source": [
    "##create a model\n",
    "model = pyo.ConcreteModel()\n",
    "model.transactions = pyo.Set(initialize=processes) #P\n",
    "model.periods = pyo.Set(initialize=period_list) #K\n",
    "model.robots = pyo.Set(initialize=robots) #R"
   ]
  },
  {
   "cell_type": "code",
   "execution_count": 11,
   "id": "fa3f4997",
   "metadata": {},
   "outputs": [],
   "source": [
    "task_time ={}\n",
    "# Create execution time for each job\n",
    "for i in range(len(new_que_df)):\n",
    "    if new_que_df.iloc[i][\"StatusName\"] != \"Failed\":\n",
    "        process_id = new_que_df.iloc[i][\"ProcessID\"]\n",
    "        if process_id in task_time.keys():\n",
    "            task_time[process_id] += (\n",
    "            new_que_df.iloc[i][\"EndProcessing\"] - new_que_df.iloc[i][\"StartProcessing\"]\n",
    "            ).total_seconds()\n",
    "        else:\n",
    "            task_time[process_id] = (\n",
    "            new_que_df.iloc[i][\"EndProcessing\"] - new_que_df.iloc[i][\"StartProcessing\"]\n",
    "            ).total_seconds()\n",
    "model.tp = pyo.Param(model.transactions,initialize=task_time)\n",
    "Tp = model.tp"
   ]
  },
  {
   "cell_type": "code",
   "execution_count": 12,
   "id": "50f00189",
   "metadata": {},
   "outputs": [],
   "source": [
    "volume = new_que_df.ProcessID.value_counts().to_dict()\n",
    "model.Vp = pyo.Param(model.transactions, initialize=volume)\n",
    "Vp = model.Vp"
   ]
  },
  {
   "cell_type": "code",
   "execution_count": 13,
   "id": "eae89eb6",
   "metadata": {},
   "outputs": [],
   "source": [
    "# Wkp 1 executed, 0 not executed\n",
    "midnight = (0,0,0)\n",
    "wkp = {}\n",
    "for i in range(len(new_que_df)):\n",
    "    wkp[period_list[0],new_que_df.iloc[i][\"ProcessID\"]] = 0\n",
    "    wkp[period_list[1],new_que_df.iloc[i][\"ProcessID\"]] = 0\n",
    "        \n",
    "for i in range(len(new_que_df)):\n",
    "    begin = new_que_df.iloc[i][\"new_time_start\"]\n",
    "    end = new_que_df.iloc[i][\"new_time_end\"]\n",
    "    if  (begin >= starting and begin <= ending) or (end >= starting and end <= ending):\n",
    "        wkp[period_list[0],new_que_df.iloc[i][\"ProcessID\"]] = 1\n",
    "\n",
    "    if (begin < starting or begin > ending) or ((end < starting or end > ending)):\n",
    "        wkp[period_list[1],new_que_df.iloc[i][\"ProcessID\"]] = 1"
   ]
  },
  {
   "cell_type": "code",
   "execution_count": 14,
   "id": "4a4aca41",
   "metadata": {},
   "outputs": [],
   "source": [
    "model.Wkp = pyo.Param(model.periods,model.transactions,initialize=wkp)\n",
    "Wkp = model.Wkp"
   ]
  },
  {
   "cell_type": "code",
   "execution_count": 15,
   "id": "49a6ca5f",
   "metadata": {},
   "outputs": [],
   "source": [
    "#N: minimal number of robots required\n",
    "model.N = pyo.Var(initialize= len(robots))\n",
    "N = model.N"
   ]
  },
  {
   "cell_type": "code",
   "execution_count": 16,
   "id": "d33850cc",
   "metadata": {},
   "outputs": [],
   "source": [
    "# Lk length of period k\n",
    "working_length = 34200\n",
    "model.Lk = pyo.Param(model.periods,initialize={period_list[0]:34200,period_list[1]:(86400-34200)})\n",
    "Lk = model.Lk"
   ]
  },
  {
   "cell_type": "code",
   "execution_count": 17,
   "id": "c74f9f19",
   "metadata": {},
   "outputs": [],
   "source": [
    "# Xrkp: number of transactions of type p ∈ P processed by robot r at period k ∈ K.\n",
    "model.X_rkp = pyo.Var(model.robots, model.periods, model.transactions, within= pyo.NonNegativeIntegers)\n",
    "X_rkp = model.X_rkp"
   ]
  },
  {
   "cell_type": "code",
   "execution_count": 19,
   "id": "923945d5",
   "metadata": {},
   "outputs": [],
   "source": [
    "#create a variable called Nk, which is the number of robots required at period k ∈ K\n",
    "model.Nk = pyo.Var(model.periods,domain= pyo.NonNegativeIntegers,initialize=5)\n",
    "Nk = model.Nk"
   ]
  },
  {
   "cell_type": "code",
   "execution_count": 20,
   "id": "31ba5a3a",
   "metadata": {},
   "outputs": [
    {
     "name": "stdout",
     "output_type": "stream",
     "text": [
      "Objective Function:  10\n"
     ]
    }
   ],
   "source": [
    "def Obj_Func(model):\n",
    "    return sum(Nk[k] for k in model.periods)\n",
    "\n",
    "model.obj = pyo.Objective(rule=Obj_Func, sense= pyo.minimize)\n",
    "\n",
    "def Constraint1(model, transactions):\n",
    "    return sum(sum(model.X_rkp[r,k,transactions] * model.Wkp[k, transactions]for k in model.periods) for r in model.robots) == model.Vp[transactions]\n",
    "model.Const1 = pyo.Constraint(model.transactions,rule=Constraint1)\n",
    "\n",
    "def Constraint2(model, periods):\n",
    "    return sum(sum(model.X_rkp[r,periods,p] * model.tp[p] for p in model.transactions) for r in model.robots) <= model.Lk[periods]* model.Nk[periods]\n",
    "model.Const2 = pyo.Constraint(model.periods,rule=Constraint2)\n",
    "\n",
    "def Constraint3(model,periods):\n",
    "    return (model.N - model.Nk[periods]) >= 0\n",
    "model.Const3 = pyo.Constraint(model.periods, rule=Constraint3)\n",
    "\n",
    "def Constraint4(model, periods): \n",
    "    return sum(sum(model.X_rkp[r,periods,p] for p in model.transactions)for r in model.robots) >= model.Nk[periods]\n",
    "model.Const4 = pyo.Constraint(model.periods, rule=Constraint4)\n",
    "#get the result\n",
    "Solver = SolverFactory('glpk')\n",
    "results = Solver.solve(model)\n",
    "print(results)\n",
    "print(\"Objective Function: \", model.obj())"
   ]
  },
  {
   "cell_type": "code",
   "execution_count": null,
   "id": "dd5c9882",
   "metadata": {},
   "outputs": [],
   "source": []
  }
 ],
 "metadata": {
  "kernelspec": {
   "display_name": "Python 3 (ipykernel)",
   "language": "python",
   "name": "python3"
  },
  "language_info": {
   "codemirror_mode": {
    "name": "ipython",
    "version": 3
   },
   "file_extension": ".py",
   "mimetype": "text/x-python",
   "name": "python",
   "nbconvert_exporter": "python",
   "pygments_lexer": "ipython3",
   "version": "3.9.7"
  }
 },
 "nbformat": 4,
 "nbformat_minor": 5
}
